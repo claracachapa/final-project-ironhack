{
 "cells": [
  {
   "cell_type": "markdown",
   "metadata": {},
   "source": [
    "# Filtering and merging the dataframes\n",
    "The dataset used has almost half a million rows, most of which are filled with missing values. So, in order to get to web scraping the images of the objects within the project's timeframe, I had to reassess my options and I decided to only keep artworks with gallery numbers (because that would mean that those are displayed), only keep the Fifth Avenue Museum (discarding the Met Cloisters) and keep only the artworks with images, which lead to having only around 33.000 rows (an easier number to manage and web scrape)."
   ]
  },
  {
   "cell_type": "code",
   "execution_count": null,
   "metadata": {},
   "outputs": [],
   "source": [
    "import numpy as np\n",
    "import pandas as pd\n",
    "import requests\n",
    "from bs4 import BeautifulSoup\n",
    "import time\n",
    "\n",
    "pd.set_option('display.max_columns', None)\n",
    "\n",
    "artworks_df = pd.read_csv('../data/clean/artworks_df.csv', low_memory=False)\n",
    "museum_df = pd.read_csv('../data/clean/museum_df.csv', low_memory=False)\n",
    "display(artworks_df.shape)\n",
    "display(museum_df.shape)"
   ]
  },
  {
   "cell_type": "code",
   "execution_count": null,
   "metadata": {},
   "outputs": [],
   "source": [
    "images_and_tags = pd.read_csv('../data/clean/images_and_tags.csv', low_memory=False)\n",
    "images_and_tags = images_and_tags.dropna(subset=['image_url'])\n",
    "images_and_tags = images_and_tags.drop(columns = ['Unnamed: 0'])\n",
    "images_and_tags = images_and_tags[images_and_tags['object_id'].isin(artworks_df['object_id'])]\n",
    "images_and_tags.reset_index(drop=True, inplace=True)\n",
    "\n",
    "# Verify the result\n",
    "print(f\"Number of rows in images_and_tags after filtering: {len(images_and_tags)}\")\n",
    "print(f\"Number of rows in artworks_df: {len(artworks_df)}\")"
   ]
  },
  {
   "cell_type": "code",
   "execution_count": null,
   "metadata": {},
   "outputs": [],
   "source": [
    "artworks_df = artworks_df[artworks_df['object_id'].isin(images_and_tags['object_id'])]\n",
    "artworks_df.reset_index(drop=True, inplace=True)\n",
    "print(f\"Number of rows in artworks_df after filtering: {len(artworks_df)}\")"
   ]
  },
  {
   "cell_type": "code",
   "execution_count": null,
   "metadata": {},
   "outputs": [],
   "source": [
    "# Filter artworks_df to match the object_ids present in museum_df\n",
    "artworks_df = artworks_df[artworks_df['object_id'].isin(museum_df['object_id'])]\n",
    "\n",
    "# Optional: Reset the index of artworks_df after filtering\n",
    "artworks_df.reset_index(drop=True, inplace=True)\n",
    "\n",
    "# Verify the result\n",
    "print(f\"Number of rows in artworks_df after filtering: {len(artworks_df)}\")\n",
    "print(f\"Number of rows in museum_df: {len(museum_df)}\")\n",
    "\n",
    "# Filter museum_df to match the object_ids present in artworks_df\n",
    "museum_df = museum_df[museum_df['object_id'].isin(artworks_df['object_id'])]\n",
    "\n",
    "# Optional: Reset the index of museum_df after filtering\n",
    "museum_df.reset_index(drop=True, inplace=True)\n",
    "\n",
    "# Verify the result\n",
    "print(f\"Number of rows in museum_df after filtering: {len(museum_df)}\")\n",
    "print(f\"Number of rows in artworks_df: {len(artworks_df)}\")"
   ]
  },
  {
   "cell_type": "code",
   "execution_count": null,
   "metadata": {},
   "outputs": [],
   "source": [
    "museum_df = museum_df.drop_duplicates(subset='object_id')\n",
    "# Recheck the number of rows\n",
    "print(f\"Number of rows in museum_df after re-filtering: {len(museum_df)}\")"
   ]
  },
  {
   "cell_type": "code",
   "execution_count": null,
   "metadata": {},
   "outputs": [],
   "source": [
    "geo_df = pd.read_csv('../data/clean/geo_df.csv', low_memory=False)\n",
    "geo_df = geo_df[geo_df['object_id'].isin(artworks_df['object_id'])]\n",
    "geo_df.reset_index(drop=True, inplace=True)\n",
    "\n",
    "print(f\"Number of rows in geo_df after filtering: {len(geo_df)}\")\n",
    "print(f\"Number of rows in artworks_df: {len(artworks_df)}\")"
   ]
  },
  {
   "cell_type": "code",
   "execution_count": null,
   "metadata": {},
   "outputs": [],
   "source": [
    "linking_table = pd.read_csv('../data/clean/linking_table.csv', low_memory=False)\n",
    "linking_table = linking_table[linking_table['object_id'].isin(artworks_df['object_id'])]\n",
    "linking_table.reset_index(drop=True, inplace=True)\n",
    "artworks_df = artworks_df[artworks_df['object_id'].isin(linking_table['object_id'])]\n",
    "artworks_df.reset_index(drop=True, inplace=True)\n",
    "# Verify the result\n",
    "print(f\"Number of rows in linking_table after filtering: {len(linking_table)}\")\n",
    "print(f\"Number of rows in artworks_df: {len(artworks_df)}\")"
   ]
  },
  {
   "cell_type": "code",
   "execution_count": null,
   "metadata": {},
   "outputs": [],
   "source": [
    "def preprocess_tags(df, tag_column='tags'):\n",
    "    \"\"\"\n",
    "    Splits tags in the specified column into a list.\n",
    "    Handles edge cases where the column might have NaN or unexpected formats.\n",
    "    \"\"\"\n",
    "    def split_tags(tag_value):\n",
    "        # Check if the value is a string and split on the exact delimiter\n",
    "        if isinstance(tag_value, str):\n",
    "            return [tag.strip() for tag in tag_value.split('|')]  # Adjusted for no spaces around \"|\"\n",
    "        return []  # Return an empty list for non-string or missing values\n",
    "\n",
    "    # Apply the splitting function\n",
    "    df[tag_column] = df[tag_column].apply(split_tags)\n",
    "    return df\n",
    "\n",
    "images_and_tags = preprocess_tags(images_and_tags)\n",
    "images_and_tags"
   ]
  },
  {
   "cell_type": "code",
   "execution_count": null,
   "metadata": {},
   "outputs": [],
   "source": [
    "artists_df = pd.read_csv('../data/clean/artists_df.csv', low_memory=False)\n",
    "print(f\"Number of rows in artists_df before filtering: {len(artists_df)}\")\n",
    "artists_df = artists_df[artists_df['artist_id'].isin(linking_table['artist_id'])]\n",
    "artists_df.reset_index(drop=True, inplace=True)\n",
    "\n",
    "# Verify the result\n",
    "print(f\"Number of rows in artists_df after filtering: {len(artists_df)}\")"
   ]
  },
  {
   "cell_type": "code",
   "execution_count": null,
   "metadata": {},
   "outputs": [],
   "source": [
    "linking_table['artist_id'].nunique()"
   ]
  },
  {
   "cell_type": "code",
   "execution_count": null,
   "metadata": {},
   "outputs": [],
   "source": [
    "# images_and_tags.to_csv('../art-sense/data/clean/images_and_tags.csv')\n",
    "linking_table = linking_table.drop(columns = 'Unnamed: 0')\n",
    "display(linking_table)"
   ]
  },
  {
   "cell_type": "code",
   "execution_count": null,
   "metadata": {},
   "outputs": [],
   "source": [
    "def preprocess_tags_multiple_columns_preserve_nan(df, columns):\n",
    "    \"\"\"\n",
    "    Splits tags in the specified columns into lists while preserving NaN values.\n",
    "    \"\"\"\n",
    "    def split_tags(tag_value):\n",
    "        # Only split if the value is a string, otherwise return an empty list\n",
    "        if isinstance(tag_value, str):\n",
    "            # Split by '|' and remove any extra spaces around each tag\n",
    "            return [tag.strip() for tag in tag_value.split('|')]  \n",
    "        else:\n",
    "            return []  # Return empty list if the value is NaN or not a string\n",
    "\n",
    "    # Apply the split_tags function across the specified columns\n",
    "    for column in columns:\n",
    "        if column in df.columns:\n",
    "            df[column] = df[column].apply(split_tags)\n",
    "        else:\n",
    "            print(f\"Warning: Column '{column}' not found in DataFrame.\")\n",
    "    \n",
    "    return df\n",
    "\n",
    "geo_columns = ['geography_type', 'city', 'state', 'county', 'country',\n",
    "               'region', 'subregion', 'locale', 'locus', 'excavation', 'river']\n",
    "\n",
    "# Example of how to apply it to your geo_df\n",
    "geo_df = preprocess_tags_multiple_columns_preserve_nan(geo_df, geo_columns)\n",
    "geo_df"
   ]
  },
  {
   "cell_type": "code",
   "execution_count": null,
   "metadata": {},
   "outputs": [],
   "source": [
    "artists_df['artist_display_name'].fillna('Unknown', inplace=True)\n",
    "artists_df.head(50)"
   ]
  },
  {
   "cell_type": "code",
   "execution_count": 20,
   "metadata": {},
   "outputs": [],
   "source": [
    "linking_table.to_csv('../data/clean/linking_table.csv', index= False)\n",
    "artists_df.to_csv('../data/clean/artists.csv', index= False)\n",
    "geo_df.to_csv('../data/clean/geo.csv', index= False)\n",
    "museum_df.to_csv('../data/clean/museum.csv', index= False)\n",
    "artworks_df.to_csv('../data/clean/artworks.csv', index= False)\n",
    "images_and_tags.to_csv('../data/clean/images_and_tags.csv', index= False)"
   ]
  },
  {
   "cell_type": "code",
   "execution_count": 5,
   "metadata": {},
   "outputs": [],
   "source": [
    "# Merge datasets\n",
    "merged_df = (artworks_df\n",
    "             .merge(linking_table_df, on='object_id', how='left')\n",
    "             .merge(artists_df, on='artist_id', how='left')\n",
    "             .merge(geo_df, on='object_id', how='left')\n",
    "             .merge(images_and_tags_df, on='object_id', how='left')\n",
    "             .merge(museum_df, on='object_id', how='left'))"
   ]
  },
  {
   "cell_type": "code",
   "execution_count": null,
   "metadata": {},
   "outputs": [],
   "source": [
    "merged_df = merged_df.drop(columns = ['link_resource_x'])\n",
    "merged_df.rename(columns={'link_resource_y': 'link_resource'}, inplace=True)\n",
    "merged_df.columns\n",
    "merged_df.to_csv('../data/clean/full_dataset.csv', index= False)"
   ]
  }
 ],
 "metadata": {
  "kernelspec": {
   "display_name": "Python 3",
   "language": "python",
   "name": "python3"
  },
  "language_info": {
   "codemirror_mode": {
    "name": "ipython",
    "version": 3
   },
   "file_extension": ".py",
   "mimetype": "text/x-python",
   "name": "python",
   "nbconvert_exporter": "python",
   "pygments_lexer": "ipython3",
   "version": "3.12.7"
  }
 },
 "nbformat": 4,
 "nbformat_minor": 2
}
