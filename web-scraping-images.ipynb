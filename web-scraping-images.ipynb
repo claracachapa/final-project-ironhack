{
 "cells": [
  {
   "cell_type": "markdown",
   "metadata": {},
   "source": [
    "# Web scraping to get the images for the artworks"
   ]
  },
  {
   "cell_type": "code",
   "execution_count": 8,
   "metadata": {},
   "outputs": [
    {
     "name": "stderr",
     "output_type": "stream",
     "text": [
      "C:\\Users\\PC\\AppData\\Local\\Temp\\ipykernel_2700\\975401515.py:9: DtypeWarning: Columns (3) have mixed types. Specify dtype option on import or set low_memory=False.\n",
      "  img_tags_progress = pd.read_csv('../art-sense/notebooks/img_tags_progress.csv')\n"
     ]
    }
   ],
   "source": [
    "import numpy as np\n",
    "import pandas as pd\n",
    "import requests\n",
    "from bs4 import BeautifulSoup\n",
    "import time\n",
    "\n",
    "pd.set_option('display.max_columns', None)\n",
    "\n",
    "img_tags_progress = pd.read_csv('../art-sense/notebooks/img_tags_progress.csv')\n",
    "img_tags_df = pd.read_csv('../art-sense/data/clean/img_tags_df.csv')\n"
   ]
  },
  {
   "cell_type": "code",
   "execution_count": 9,
   "metadata": {},
   "outputs": [
    {
     "data": {
      "text/html": [
       "<div>\n",
       "<style scoped>\n",
       "    .dataframe tbody tr th:only-of-type {\n",
       "        vertical-align: middle;\n",
       "    }\n",
       "\n",
       "    .dataframe tbody tr th {\n",
       "        vertical-align: top;\n",
       "    }\n",
       "\n",
       "    .dataframe thead th {\n",
       "        text-align: right;\n",
       "    }\n",
       "</style>\n",
       "<table border=\"1\" class=\"dataframe\">\n",
       "  <thead>\n",
       "    <tr style=\"text-align: right;\">\n",
       "      <th></th>\n",
       "      <th>object_id</th>\n",
       "      <th>link_resource</th>\n",
       "      <th>tags</th>\n",
       "      <th>image_url</th>\n",
       "    </tr>\n",
       "  </thead>\n",
       "  <tbody>\n",
       "    <tr>\n",
       "      <th>0</th>\n",
       "      <td>33</td>\n",
       "      <td>http://www.metmuseum.org/art/collection/search/33</td>\n",
       "      <td>Men|Abraham Lincoln|Portraits</td>\n",
       "      <td>https://collectionapi.metmuseum.org/api/collec...</td>\n",
       "    </tr>\n",
       "    <tr>\n",
       "      <th>1</th>\n",
       "      <td>34</td>\n",
       "      <td>http://www.metmuseum.org/art/collection/search/34</td>\n",
       "      <td>Landscapes|Boats</td>\n",
       "      <td>https://collectionapi.metmuseum.org/api/collec...</td>\n",
       "    </tr>\n",
       "    <tr>\n",
       "      <th>2</th>\n",
       "      <td>35</td>\n",
       "      <td>http://www.metmuseum.org/art/collection/search/35</td>\n",
       "      <td>Animals|Garlands|Birds|Men</td>\n",
       "      <td>https://collectionapi.metmuseum.org/api/collec...</td>\n",
       "    </tr>\n",
       "    <tr>\n",
       "      <th>3</th>\n",
       "      <td>36</td>\n",
       "      <td>http://www.metmuseum.org/art/collection/search/36</td>\n",
       "      <td>NaN</td>\n",
       "      <td>https://collectionapi.metmuseum.org/api/collec...</td>\n",
       "    </tr>\n",
       "    <tr>\n",
       "      <th>4</th>\n",
       "      <td>37</td>\n",
       "      <td>http://www.metmuseum.org/art/collection/search/37</td>\n",
       "      <td>Cannons|Swords|Men</td>\n",
       "      <td>https://collectionapi.metmuseum.org/api/collec...</td>\n",
       "    </tr>\n",
       "    <tr>\n",
       "      <th>...</th>\n",
       "      <td>...</td>\n",
       "      <td>...</td>\n",
       "      <td>...</td>\n",
       "      <td>...</td>\n",
       "    </tr>\n",
       "    <tr>\n",
       "      <th>48285</th>\n",
       "      <td>894449</td>\n",
       "      <td>http://www.metmuseum.org/art/collection/search...</td>\n",
       "      <td>NaN</td>\n",
       "      <td>NaN</td>\n",
       "    </tr>\n",
       "    <tr>\n",
       "      <th>48286</th>\n",
       "      <td>894685</td>\n",
       "      <td>http://www.metmuseum.org/art/collection/search...</td>\n",
       "      <td>NaN</td>\n",
       "      <td>NaN</td>\n",
       "    </tr>\n",
       "    <tr>\n",
       "      <th>48287</th>\n",
       "      <td>894734</td>\n",
       "      <td>http://www.metmuseum.org/art/collection/search...</td>\n",
       "      <td>NaN</td>\n",
       "      <td>NaN</td>\n",
       "    </tr>\n",
       "    <tr>\n",
       "      <th>48288</th>\n",
       "      <td>895183</td>\n",
       "      <td>http://www.metmuseum.org/art/collection/search...</td>\n",
       "      <td>NaN</td>\n",
       "      <td>NaN</td>\n",
       "    </tr>\n",
       "    <tr>\n",
       "      <th>48289</th>\n",
       "      <td>896897</td>\n",
       "      <td>http://www.metmuseum.org/art/collection/search...</td>\n",
       "      <td>NaN</td>\n",
       "      <td>NaN</td>\n",
       "    </tr>\n",
       "  </tbody>\n",
       "</table>\n",
       "<p>48290 rows × 4 columns</p>\n",
       "</div>"
      ],
      "text/plain": [
       "       object_id                                      link_resource  \\\n",
       "0             33  http://www.metmuseum.org/art/collection/search/33   \n",
       "1             34  http://www.metmuseum.org/art/collection/search/34   \n",
       "2             35  http://www.metmuseum.org/art/collection/search/35   \n",
       "3             36  http://www.metmuseum.org/art/collection/search/36   \n",
       "4             37  http://www.metmuseum.org/art/collection/search/37   \n",
       "...          ...                                                ...   \n",
       "48285     894449  http://www.metmuseum.org/art/collection/search...   \n",
       "48286     894685  http://www.metmuseum.org/art/collection/search...   \n",
       "48287     894734  http://www.metmuseum.org/art/collection/search...   \n",
       "48288     895183  http://www.metmuseum.org/art/collection/search...   \n",
       "48289     896897  http://www.metmuseum.org/art/collection/search...   \n",
       "\n",
       "                                tags  \\\n",
       "0      Men|Abraham Lincoln|Portraits   \n",
       "1                   Landscapes|Boats   \n",
       "2         Animals|Garlands|Birds|Men   \n",
       "3                                NaN   \n",
       "4                 Cannons|Swords|Men   \n",
       "...                              ...   \n",
       "48285                            NaN   \n",
       "48286                            NaN   \n",
       "48287                            NaN   \n",
       "48288                            NaN   \n",
       "48289                            NaN   \n",
       "\n",
       "                                               image_url  \n",
       "0      https://collectionapi.metmuseum.org/api/collec...  \n",
       "1      https://collectionapi.metmuseum.org/api/collec...  \n",
       "2      https://collectionapi.metmuseum.org/api/collec...  \n",
       "3      https://collectionapi.metmuseum.org/api/collec...  \n",
       "4      https://collectionapi.metmuseum.org/api/collec...  \n",
       "...                                                  ...  \n",
       "48285                                                NaN  \n",
       "48286                                                NaN  \n",
       "48287                                                NaN  \n",
       "48288                                                NaN  \n",
       "48289                                                NaN  \n",
       "\n",
       "[48290 rows x 4 columns]"
      ]
     },
     "metadata": {},
     "output_type": "display_data"
    }
   ],
   "source": [
    "#img_tags_df['image_url'] = img_tags_progress['image_url']\n",
    "display(img_tags_df)"
   ]
  },
  {
   "cell_type": "code",
   "execution_count": 10,
   "metadata": {},
   "outputs": [
    {
     "data": {
      "text/html": [
       "<div>\n",
       "<style scoped>\n",
       "    .dataframe tbody tr th:only-of-type {\n",
       "        vertical-align: middle;\n",
       "    }\n",
       "\n",
       "    .dataframe tbody tr th {\n",
       "        vertical-align: top;\n",
       "    }\n",
       "\n",
       "    .dataframe thead th {\n",
       "        text-align: right;\n",
       "    }\n",
       "</style>\n",
       "<table border=\"1\" class=\"dataframe\">\n",
       "  <thead>\n",
       "    <tr style=\"text-align: right;\">\n",
       "      <th></th>\n",
       "      <th>object_id</th>\n",
       "      <th>link_resource</th>\n",
       "      <th>tags</th>\n",
       "      <th>image_url</th>\n",
       "    </tr>\n",
       "  </thead>\n",
       "  <tbody>\n",
       "    <tr>\n",
       "      <th>10326</th>\n",
       "      <td>24565</td>\n",
       "      <td>http://www.metmuseum.org/art/collection/search...</td>\n",
       "      <td>NaN</td>\n",
       "      <td>https://collectionapi.metmuseum.org/api/collec...</td>\n",
       "    </tr>\n",
       "  </tbody>\n",
       "</table>\n",
       "</div>"
      ],
      "text/plain": [
       "       object_id                                      link_resource tags  \\\n",
       "10326      24565  http://www.metmuseum.org/art/collection/search...  NaN   \n",
       "\n",
       "                                               image_url  \n",
       "10326  https://collectionapi.metmuseum.org/api/collec...  "
      ]
     },
     "metadata": {},
     "output_type": "display_data"
    }
   ],
   "source": [
    "last_row_with_image_url = img_tags_df[img_tags_df['image_url'].notna()].tail(1)\n",
    "display(last_row_with_image_url)"
   ]
  },
  {
   "cell_type": "code",
   "execution_count": 11,
   "metadata": {},
   "outputs": [
    {
     "data": {
      "text/plain": [
       "(10327, 4)"
      ]
     },
     "metadata": {},
     "output_type": "display_data"
    },
    {
     "data": {
      "text/plain": [
       "(37963, 4)"
      ]
     },
     "metadata": {},
     "output_type": "display_data"
    }
   ],
   "source": [
    "# Find the index of the row where object_id is 24575 (or row 19996)\n",
    "index_split = img_tags_df[img_tags_df['object_id'] == 24565].index[0]\n",
    "\n",
    "# Create the two DataFrames\n",
    "df_before = img_tags_df.iloc[:index_split+1]  # Including the row with object_id 24575\n",
    "df_after = img_tags_df.iloc[index_split+1:]  # Rows after the split\n",
    "\n",
    "# Display the new DataFrames\n",
    "display(df_before.shape)  # Show the last few rows of the first DataFrame\n",
    "display(df_after.shape)  # Show the first few rows of the second DataFrame\n"
   ]
  },
  {
   "cell_type": "code",
   "execution_count": 12,
   "metadata": {},
   "outputs": [
    {
     "name": "stderr",
     "output_type": "stream",
     "text": [
      "Scraping Images:  12%|█▏        | 4673/37963 [1:24:21<9:55:07,  1.07s/it] "
     ]
    },
    {
     "name": "stdout",
     "output_type": "stream",
     "text": [
      "Backup saved at row 15000 to df_after_progress.csv\n"
     ]
    },
    {
     "name": "stderr",
     "output_type": "stream",
     "text": [
      "Scraping Images:  25%|██▌       | 9673/37963 [2:50:06<8:46:00,  1.12s/it] "
     ]
    },
    {
     "name": "stdout",
     "output_type": "stream",
     "text": [
      "Backup saved at row 20000 to df_after_progress.csv\n"
     ]
    },
    {
     "name": "stderr",
     "output_type": "stream",
     "text": [
      "Scraping Images:  39%|███▊      | 14673/37963 [4:15:33<6:23:54,  1.01it/s] "
     ]
    },
    {
     "name": "stdout",
     "output_type": "stream",
     "text": [
      "Backup saved at row 25000 to df_after_progress.csv\n"
     ]
    },
    {
     "name": "stderr",
     "output_type": "stream",
     "text": [
      "Scraping Images:  52%|█████▏    | 19673/37963 [5:42:28<4:15:06,  1.19it/s] "
     ]
    },
    {
     "name": "stdout",
     "output_type": "stream",
     "text": [
      "Backup saved at row 30000 to df_after_progress.csv\n"
     ]
    },
    {
     "name": "stderr",
     "output_type": "stream",
     "text": [
      "Scraping Images:  65%|██████▍   | 24673/37963 [7:05:57<4:02:04,  1.09s/it] "
     ]
    },
    {
     "name": "stdout",
     "output_type": "stream",
     "text": [
      "Backup saved at row 35000 to df_after_progress.csv\n"
     ]
    },
    {
     "name": "stderr",
     "output_type": "stream",
     "text": [
      "Scraping Images:  78%|███████▊  | 29673/37963 [8:29:20<2:23:00,  1.04s/it]"
     ]
    },
    {
     "name": "stdout",
     "output_type": "stream",
     "text": [
      "Backup saved at row 40000 to df_after_progress.csv\n"
     ]
    },
    {
     "name": "stderr",
     "output_type": "stream",
     "text": [
      "Scraping Images:  91%|█████████▏| 34673/37963 [9:53:13<52:31,  1.04it/s]  "
     ]
    },
    {
     "name": "stdout",
     "output_type": "stream",
     "text": [
      "Backup saved at row 45000 to df_after_progress.csv\n"
     ]
    },
    {
     "name": "stderr",
     "output_type": "stream",
     "text": [
      "Scraping Images: 100%|██████████| 37963/37963 [10:50:04<00:00,  1.03s/it]  "
     ]
    },
    {
     "name": "stdout",
     "output_type": "stream",
     "text": [
      "Scraping completed. Final backup saved to df_after_progress.csv.\n",
      "       object_id                                      link_resource tags  \\\n",
      "10327      24615  http://www.metmuseum.org/art/collection/search...  NaN   \n",
      "10328      24616  http://www.metmuseum.org/art/collection/search...  NaN   \n",
      "10329      24617  http://www.metmuseum.org/art/collection/search...  NaN   \n",
      "10330      24618  http://www.metmuseum.org/art/collection/search...  NaN   \n",
      "10331      24619  http://www.metmuseum.org/art/collection/search...  NaN   \n",
      "...          ...                                                ...  ...   \n",
      "48285     894449  http://www.metmuseum.org/art/collection/search...  NaN   \n",
      "48286     894685  http://www.metmuseum.org/art/collection/search...  NaN   \n",
      "48287     894734  http://www.metmuseum.org/art/collection/search...  NaN   \n",
      "48288     895183  http://www.metmuseum.org/art/collection/search...  NaN   \n",
      "48289     896897  http://www.metmuseum.org/art/collection/search...  NaN   \n",
      "\n",
      "                                               image_url  \n",
      "10327  https://collectionapi.metmuseum.org/api/collec...  \n",
      "10328  https://collectionapi.metmuseum.org/api/collec...  \n",
      "10329  https://collectionapi.metmuseum.org/api/collec...  \n",
      "10330  https://collectionapi.metmuseum.org/api/collec...  \n",
      "10331  https://collectionapi.metmuseum.org/api/collec...  \n",
      "...                                                  ...  \n",
      "48285  https://collectionapi.metmuseum.org/api/collec...  \n",
      "48286  https://collectionapi.metmuseum.org/api/collec...  \n",
      "48287  https://collectionapi.metmuseum.org/api/collec...  \n",
      "48288  https://collectionapi.metmuseum.org/api/collec...  \n",
      "48289  https://collectionapi.metmuseum.org/api/collec...  \n",
      "\n",
      "[37963 rows x 4 columns]\n"
     ]
    },
    {
     "name": "stderr",
     "output_type": "stream",
     "text": [
      "\n"
     ]
    }
   ],
   "source": [
    "import requests\n",
    "from bs4 import BeautifulSoup\n",
    "import pandas as pd\n",
    "from tqdm import tqdm\n",
    "\n",
    "# Define the function to scrape image URLs\n",
    "def fetch_image_url_from_web(link):\n",
    "    \"\"\"\n",
    "    Fetches the image URL from a webpage given its link.\n",
    "    \"\"\"\n",
    "    try:\n",
    "        response = requests.get(link)\n",
    "        if response.status_code == 200:\n",
    "            soup = BeautifulSoup(response.text, 'html.parser')\n",
    "            img_tag = soup.find('img', {'id': 'artwork__image'})\n",
    "            if img_tag and img_tag.get('src'):\n",
    "                return img_tag['src']  # Return the 'src' of the image\n",
    "        return None  # Return None if no image found\n",
    "    except Exception as e:\n",
    "        print(f\"Error fetching image from {link}: {e}\")\n",
    "        return None\n",
    "\n",
    "# Process the DataFrame and scrape the images\n",
    "def scrape_images_from_df(df, link_col='link_resource', image_col='image_url', backup_interval=5000, backup_file=\"backup_amg_tags.csv\"):\n",
    "    \"\"\"\n",
    "    Processes the DataFrame to fetch image URLs for each link in the 'link_resource' column.\n",
    "    Periodically saves progress to a backup file.\n",
    "    \"\"\"\n",
    "    # Initialize the progress bar\n",
    "    with tqdm(total=len(df), desc=\"Scraping Images\") as pbar:\n",
    "        for i, row in df.iterrows():\n",
    "            if pd.isna(row[image_col]):  # Only process rows with missing image URLs\n",
    "                image_url = fetch_image_url_from_web(row[link_col])\n",
    "                df.at[i, image_col] = image_url  # Update the DataFrame\n",
    "                \n",
    "            # Save a backup after every `backup_interval` rows\n",
    "            if (i + 1) % backup_interval == 0:\n",
    "                df.to_csv(backup_file, index=False)\n",
    "                print(f\"Backup saved at row {i + 1} to {backup_file}\")\n",
    "            \n",
    "            # Update progress bar\n",
    "            pbar.update(1)\n",
    "\n",
    "    # Final save\n",
    "    df.to_csv(backup_file, index=False)\n",
    "    print(f\"Scraping completed. Final backup saved to {backup_file}.\")\n",
    "    return df\n",
    "\n",
    "df_after = img_tags_df.iloc[index_split+1:]\n",
    "# Scrape the images\n",
    "updated_df = scrape_images_from_df(df_after, backup_interval=5000, backup_file=\"df_after_progress.csv\")\n",
    "\n",
    "# Display the result\n",
    "print(updated_df)"
   ]
  },
  {
   "cell_type": "code",
   "execution_count": 13,
   "metadata": {},
   "outputs": [],
   "source": [
    "df_after_progress = pd.read_csv('df_after_progress.csv')\n",
    "merged_df = pd.concat([df_before, df_after_progress], ignore_index=True)"
   ]
  },
  {
   "cell_type": "code",
   "execution_count": 19,
   "metadata": {},
   "outputs": [],
   "source": [
    "merged_df.to_csv('../art-sense/data/clean/images_and_tags.csv')"
   ]
  }
 ],
 "metadata": {
  "kernelspec": {
   "display_name": ".venv",
   "language": "python",
   "name": "python3"
  },
  "language_info": {
   "codemirror_mode": {
    "name": "ipython",
    "version": 3
   },
   "file_extension": ".py",
   "mimetype": "text/x-python",
   "name": "python",
   "nbconvert_exporter": "python",
   "pygments_lexer": "ipython3",
   "version": "3.12.7"
  }
 },
 "nbformat": 4,
 "nbformat_minor": 2
}
